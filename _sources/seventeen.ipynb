{
 "cells": [
  {
   "cell_type": "markdown",
   "id": "ea5eebba-1517-4161-9516-309301387a01",
   "metadata": {},
   "source": [
    "# 17. Limited Dependent Variable Models and Sample Selection Corrections"
   ]
  },
  {
   "cell_type": "markdown",
   "id": "9a204369-cf81-4d77-9a0f-33ca35c5bf7d",
   "metadata": {},
   "source": [
    "🚧 Under Construction"
   ]
  }
 ],
 "metadata": {
  "kernelspec": {
   "display_name": "Python 3 (ipykernel)",
   "language": "python",
   "name": "python3"
  },
  "language_info": {
   "codemirror_mode": {
    "name": "ipython",
    "version": 3
   },
   "file_extension": ".py",
   "mimetype": "text/x-python",
   "name": "python",
   "nbconvert_exporter": "python",
   "pygments_lexer": "ipython3",
   "version": "3.12.3"
  }
 },
 "nbformat": 4,
 "nbformat_minor": 5
}
