{
 "cells": [
  {
   "cell_type": "markdown",
   "id": "9311af5c-ff4f-43b6-956b-9d001b7777a2",
   "metadata": {},
   "source": [
    "# 6. Multiple Regression Analysis: Further Issues"
   ]
  },
  {
   "cell_type": "markdown",
   "id": "2d6ae811-b9aa-45b7-870c-feee8c8f3e16",
   "metadata": {},
   "source": [
    "🚧 Under Construction"
   ]
  }
 ],
 "metadata": {
  "kernelspec": {
   "display_name": "Python 3 (ipykernel)",
   "language": "python",
   "name": "python3"
  },
  "language_info": {
   "codemirror_mode": {
    "name": "ipython",
    "version": 3
   },
   "file_extension": ".py",
   "mimetype": "text/x-python",
   "name": "python",
   "nbconvert_exporter": "python",
   "pygments_lexer": "ipython3",
   "version": "3.12.3"
  }
 },
 "nbformat": 4,
 "nbformat_minor": 5
}
