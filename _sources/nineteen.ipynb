{
 "cells": [
  {
   "cell_type": "markdown",
   "id": "42612157-d5c5-445a-929a-31303a63101a",
   "metadata": {},
   "source": [
    "# 19. Carrying Out an Empirical Project"
   ]
  },
  {
   "cell_type": "markdown",
   "id": "ddb14a0e-7023-4df3-9601-52e87d139b32",
   "metadata": {},
   "source": [
    "🚧 Under Construction"
   ]
  }
 ],
 "metadata": {
  "kernelspec": {
   "display_name": "Python 3 (ipykernel)",
   "language": "python",
   "name": "python3"
  },
  "language_info": {
   "codemirror_mode": {
    "name": "ipython",
    "version": 3
   },
   "file_extension": ".py",
   "mimetype": "text/x-python",
   "name": "python",
   "nbconvert_exporter": "python",
   "pygments_lexer": "ipython3",
   "version": "3.12.3"
  }
 },
 "nbformat": 4,
 "nbformat_minor": 5
}
