{
 "cells": [
  {
   "cell_type": "markdown",
   "id": "146b058f-66e7-40ef-8783-ea3da909a9fc",
   "metadata": {},
   "source": [
    "# 7. Multiple Regression Analysis with Qualitative Information"
   ]
  },
  {
   "cell_type": "markdown",
   "id": "42bfc8fc-a468-4fa2-a53c-a5e1f8ee5647",
   "metadata": {},
   "source": [
    "🚧 Under Construction"
   ]
  }
 ],
 "metadata": {
  "kernelspec": {
   "display_name": "Python 3 (ipykernel)",
   "language": "python",
   "name": "python3"
  },
  "language_info": {
   "codemirror_mode": {
    "name": "ipython",
    "version": 3
   },
   "file_extension": ".py",
   "mimetype": "text/x-python",
   "name": "python",
   "nbconvert_exporter": "python",
   "pygments_lexer": "ipython3",
   "version": "3.12.3"
  }
 },
 "nbformat": 4,
 "nbformat_minor": 5
}