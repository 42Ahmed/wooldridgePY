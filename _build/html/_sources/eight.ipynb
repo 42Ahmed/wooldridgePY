{
 "cells": [
  {
   "cell_type": "markdown",
   "id": "289056bd-c942-4f23-b9a7-865dbfcfac01",
   "metadata": {},
   "source": [
    "# 8. Heteroskedasticity"
   ]
  },
  {
   "cell_type": "markdown",
   "id": "98a2f859-aacd-4a74-b85c-5322abeda2e1",
   "metadata": {},
   "source": [
    "🚧 Under Construction"
   ]
  }
 ],
 "metadata": {
  "kernelspec": {
   "display_name": "Python 3 (ipykernel)",
   "language": "python",
   "name": "python3"
  },
  "language_info": {
   "codemirror_mode": {
    "name": "ipython",
    "version": 3
   },
   "file_extension": ".py",
   "mimetype": "text/x-python",
   "name": "python",
   "nbconvert_exporter": "python",
   "pygments_lexer": "ipython3",
   "version": "3.12.3"
  }
 },
 "nbformat": 4,
 "nbformat_minor": 5
}
